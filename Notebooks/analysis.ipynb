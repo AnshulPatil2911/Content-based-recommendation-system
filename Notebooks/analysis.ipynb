{
 "cells": [
  {
   "cell_type": "code",
   "execution_count": 1,
   "id": "2059d258-0912-4f1a-86cc-7f671b999097",
   "metadata": {},
   "outputs": [],
   "source": [
    "import pandas as pd\n",
    "import numpy as np\n",
    "import warnings\n",
    "import matplotlib.pyplot as plt\n",
    "import seaborn as sns\n",
    "import scipy.stats as stats\n",
    "from sklearn.preprocessing import MinMaxScaler\n",
    "warnings.filterwarnings(\"ignore\")"
   ]
  },
  {
   "cell_type": "code",
   "execution_count": 2,
   "id": "795c29a1-0ca6-4e0c-9e28-56c5bf21c011",
   "metadata": {},
   "outputs": [],
   "source": [
    "#Reading the resampled CSVs\n",
    "multi=pd.read_csv('Multi_Category_Store_1.csv')\n",
    "electronics=pd.read_csv('Electronics1.csv')\n",
    "electronics1=pd.read_csv('Electronics2.csv')"
   ]
  },
  {
   "cell_type": "code",
   "execution_count": 3,
   "id": "2ee73487-6fca-464e-8501-e12a4cd912f1",
   "metadata": {},
   "outputs": [],
   "source": [
    "dfs=[multi,electronics,electronics1]         #Loading the CSVs into a list\n",
    "dfs_name=['multi', 'electronics', 'electronics1']  #Storing the names of the CSVs in a list"
   ]
  },
  {
   "cell_type": "code",
   "execution_count": 4,
   "id": "40f9e711-4b85-439e-93b3-d069d5bd979c",
   "metadata": {},
   "outputs": [
    {
     "data": {
      "text/html": [
       "<div>\n",
       "<style scoped>\n",
       "    .dataframe tbody tr th:only-of-type {\n",
       "        vertical-align: middle;\n",
       "    }\n",
       "\n",
       "    .dataframe tbody tr th {\n",
       "        vertical-align: top;\n",
       "    }\n",
       "\n",
       "    .dataframe thead th {\n",
       "        text-align: right;\n",
       "    }\n",
       "</style>\n",
       "<table border=\"1\" class=\"dataframe\">\n",
       "  <thead>\n",
       "    <tr style=\"text-align: right;\">\n",
       "      <th></th>\n",
       "      <th>event_time</th>\n",
       "      <th>event_type</th>\n",
       "      <th>product_id</th>\n",
       "      <th>category_id</th>\n",
       "      <th>category_code</th>\n",
       "      <th>brand</th>\n",
       "      <th>price</th>\n",
       "      <th>user_id</th>\n",
       "      <th>user_session</th>\n",
       "    </tr>\n",
       "  </thead>\n",
       "  <tbody>\n",
       "    <tr>\n",
       "      <th>0</th>\n",
       "      <td>2019-10-29 14:10:28 UTC</td>\n",
       "      <td>view</td>\n",
       "      <td>17100068</td>\n",
       "      <td>2053013558349791811</td>\n",
       "      <td>NaN</td>\n",
       "      <td>sv</td>\n",
       "      <td>154.19</td>\n",
       "      <td>515973027</td>\n",
       "      <td>883895a1-d299-4da0-b999-8ee5c1ee5a57</td>\n",
       "    </tr>\n",
       "    <tr>\n",
       "      <th>1</th>\n",
       "      <td>2019-10-31 14:52:26 UTC</td>\n",
       "      <td>view</td>\n",
       "      <td>9001245</td>\n",
       "      <td>2053013553140465927</td>\n",
       "      <td>kids.toys</td>\n",
       "      <td>orange</td>\n",
       "      <td>9.24</td>\n",
       "      <td>516207684</td>\n",
       "      <td>43e06b30-9a10-4ac5-91dd-ff7ed04aab82</td>\n",
       "    </tr>\n",
       "    <tr>\n",
       "      <th>2</th>\n",
       "      <td>2019-10-23 12:09:33 UTC</td>\n",
       "      <td>view</td>\n",
       "      <td>2800436</td>\n",
       "      <td>2053013563835941749</td>\n",
       "      <td>appliances.kitchen.refrigerators</td>\n",
       "      <td>NaN</td>\n",
       "      <td>330.77</td>\n",
       "      <td>514498652</td>\n",
       "      <td>98c1ba90-5b20-4b48-ae64-e0223edc1627</td>\n",
       "    </tr>\n",
       "    <tr>\n",
       "      <th>3</th>\n",
       "      <td>2019-10-14 07:01:01 UTC</td>\n",
       "      <td>view</td>\n",
       "      <td>1004751</td>\n",
       "      <td>2053013555631882655</td>\n",
       "      <td>electronics.smartphone</td>\n",
       "      <td>samsung</td>\n",
       "      <td>196.83</td>\n",
       "      <td>528160375</td>\n",
       "      <td>29b1562d-8e2b-4298-ab2e-a186cbeaa7e1</td>\n",
       "    </tr>\n",
       "    <tr>\n",
       "      <th>4</th>\n",
       "      <td>2019-10-26 03:02:21 UTC</td>\n",
       "      <td>view</td>\n",
       "      <td>15700013</td>\n",
       "      <td>2053013559733912211</td>\n",
       "      <td>NaN</td>\n",
       "      <td>NaN</td>\n",
       "      <td>405.13</td>\n",
       "      <td>514906252</td>\n",
       "      <td>6bb9aa66-e2bc-43d4-aa23-27824a5144ae</td>\n",
       "    </tr>\n",
       "  </tbody>\n",
       "</table>\n",
       "</div>"
      ],
      "text/plain": [
       "                event_time event_type  product_id          category_id  \\\n",
       "0  2019-10-29 14:10:28 UTC       view    17100068  2053013558349791811   \n",
       "1  2019-10-31 14:52:26 UTC       view     9001245  2053013553140465927   \n",
       "2  2019-10-23 12:09:33 UTC       view     2800436  2053013563835941749   \n",
       "3  2019-10-14 07:01:01 UTC       view     1004751  2053013555631882655   \n",
       "4  2019-10-26 03:02:21 UTC       view    15700013  2053013559733912211   \n",
       "\n",
       "                      category_code    brand   price    user_id  \\\n",
       "0                               NaN       sv  154.19  515973027   \n",
       "1                         kids.toys   orange    9.24  516207684   \n",
       "2  appliances.kitchen.refrigerators      NaN  330.77  514498652   \n",
       "3            electronics.smartphone  samsung  196.83  528160375   \n",
       "4                               NaN      NaN  405.13  514906252   \n",
       "\n",
       "                           user_session  \n",
       "0  883895a1-d299-4da0-b999-8ee5c1ee5a57  \n",
       "1  43e06b30-9a10-4ac5-91dd-ff7ed04aab82  \n",
       "2  98c1ba90-5b20-4b48-ae64-e0223edc1627  \n",
       "3  29b1562d-8e2b-4298-ab2e-a186cbeaa7e1  \n",
       "4  6bb9aa66-e2bc-43d4-aa23-27824a5144ae  "
      ]
     },
     "execution_count": 4,
     "metadata": {},
     "output_type": "execute_result"
    }
   ],
   "source": [
    "multi.head(5)"
   ]
  },
  {
   "cell_type": "code",
   "execution_count": 5,
   "id": "97a63186-cfbb-4540-82d1-2faaeec1f454",
   "metadata": {},
   "outputs": [
    {
     "data": {
      "text/html": [
       "<div>\n",
       "<style scoped>\n",
       "    .dataframe tbody tr th:only-of-type {\n",
       "        vertical-align: middle;\n",
       "    }\n",
       "\n",
       "    .dataframe tbody tr th {\n",
       "        vertical-align: top;\n",
       "    }\n",
       "\n",
       "    .dataframe thead th {\n",
       "        text-align: right;\n",
       "    }\n",
       "</style>\n",
       "<table border=\"1\" class=\"dataframe\">\n",
       "  <thead>\n",
       "    <tr style=\"text-align: right;\">\n",
       "      <th></th>\n",
       "      <th>event_time</th>\n",
       "      <th>event_type</th>\n",
       "      <th>product_id</th>\n",
       "      <th>category_id</th>\n",
       "      <th>category_code</th>\n",
       "      <th>brand</th>\n",
       "      <th>price</th>\n",
       "      <th>user_id</th>\n",
       "      <th>user_session</th>\n",
       "    </tr>\n",
       "  </thead>\n",
       "  <tbody>\n",
       "    <tr>\n",
       "      <th>0</th>\n",
       "      <td>2021-02-10 07:32:16 UTC</td>\n",
       "      <td>purchase</td>\n",
       "      <td>1569530</td>\n",
       "      <td>2144415922528452715</td>\n",
       "      <td>electronics.telephone</td>\n",
       "      <td>NaN</td>\n",
       "      <td>37.94</td>\n",
       "      <td>1515915625603579901</td>\n",
       "      <td>0F6nvfSj4C</td>\n",
       "    </tr>\n",
       "    <tr>\n",
       "      <th>1</th>\n",
       "      <td>2020-12-11 16:39:19 UTC</td>\n",
       "      <td>view</td>\n",
       "      <td>1622011</td>\n",
       "      <td>2144415928333369601</td>\n",
       "      <td>NaN</td>\n",
       "      <td>NaN</td>\n",
       "      <td>14.76</td>\n",
       "      <td>1515915625561257734</td>\n",
       "      <td>lnM76Sdc2W</td>\n",
       "    </tr>\n",
       "    <tr>\n",
       "      <th>2</th>\n",
       "      <td>2021-01-08 06:25:09 UTC</td>\n",
       "      <td>view</td>\n",
       "      <td>787686</td>\n",
       "      <td>2144415927125410016</td>\n",
       "      <td>NaN</td>\n",
       "      <td>perfeo</td>\n",
       "      <td>12.92</td>\n",
       "      <td>1515915625574133874</td>\n",
       "      <td>Z1SD5V1Vt5</td>\n",
       "    </tr>\n",
       "    <tr>\n",
       "      <th>3</th>\n",
       "      <td>2020-11-07 17:12:12 UTC</td>\n",
       "      <td>view</td>\n",
       "      <td>655642</td>\n",
       "      <td>2144415923384090754</td>\n",
       "      <td>NaN</td>\n",
       "      <td>interpower</td>\n",
       "      <td>18.41</td>\n",
       "      <td>1515915625536759596</td>\n",
       "      <td>Ajm7C3GI6t</td>\n",
       "    </tr>\n",
       "    <tr>\n",
       "      <th>4</th>\n",
       "      <td>2021-02-21 19:17:29 UTC</td>\n",
       "      <td>view</td>\n",
       "      <td>136700</td>\n",
       "      <td>2144415924491387038</td>\n",
       "      <td>computers.components.motherboard</td>\n",
       "      <td>asrock</td>\n",
       "      <td>77.73</td>\n",
       "      <td>1515915625608204509</td>\n",
       "      <td>H5k7RPnYzu</td>\n",
       "    </tr>\n",
       "  </tbody>\n",
       "</table>\n",
       "</div>"
      ],
      "text/plain": [
       "                event_time event_type  product_id          category_id  \\\n",
       "0  2021-02-10 07:32:16 UTC   purchase     1569530  2144415922528452715   \n",
       "1  2020-12-11 16:39:19 UTC       view     1622011  2144415928333369601   \n",
       "2  2021-01-08 06:25:09 UTC       view      787686  2144415927125410016   \n",
       "3  2020-11-07 17:12:12 UTC       view      655642  2144415923384090754   \n",
       "4  2021-02-21 19:17:29 UTC       view      136700  2144415924491387038   \n",
       "\n",
       "                      category_code       brand  price              user_id  \\\n",
       "0             electronics.telephone         NaN  37.94  1515915625603579901   \n",
       "1                               NaN         NaN  14.76  1515915625561257734   \n",
       "2                               NaN      perfeo  12.92  1515915625574133874   \n",
       "3                               NaN  interpower  18.41  1515915625536759596   \n",
       "4  computers.components.motherboard      asrock  77.73  1515915625608204509   \n",
       "\n",
       "  user_session  \n",
       "0   0F6nvfSj4C  \n",
       "1   lnM76Sdc2W  \n",
       "2   Z1SD5V1Vt5  \n",
       "3   Ajm7C3GI6t  \n",
       "4   H5k7RPnYzu  "
      ]
     },
     "execution_count": 5,
     "metadata": {},
     "output_type": "execute_result"
    }
   ],
   "source": [
    "electronics.head()"
   ]
  },
  {
   "cell_type": "code",
   "execution_count": 6,
   "id": "951f7ace-c4bf-45e0-8e2c-be774634b073",
   "metadata": {},
   "outputs": [
    {
     "data": {
      "text/html": [
       "<div>\n",
       "<style scoped>\n",
       "    .dataframe tbody tr th:only-of-type {\n",
       "        vertical-align: middle;\n",
       "    }\n",
       "\n",
       "    .dataframe tbody tr th {\n",
       "        vertical-align: top;\n",
       "    }\n",
       "\n",
       "    .dataframe thead th {\n",
       "        text-align: right;\n",
       "    }\n",
       "</style>\n",
       "<table border=\"1\" class=\"dataframe\">\n",
       "  <thead>\n",
       "    <tr style=\"text-align: right;\">\n",
       "      <th></th>\n",
       "      <th>event_time</th>\n",
       "      <th>event_type</th>\n",
       "      <th>product_id</th>\n",
       "      <th>category_id</th>\n",
       "      <th>category_code</th>\n",
       "      <th>brand</th>\n",
       "      <th>price</th>\n",
       "      <th>user_id</th>\n",
       "      <th>user_session</th>\n",
       "    </tr>\n",
       "  </thead>\n",
       "  <tbody>\n",
       "    <tr>\n",
       "      <th>0</th>\n",
       "      <td>2021-02-03 16:26:00 UTC</td>\n",
       "      <td>view</td>\n",
       "      <td>599596</td>\n",
       "      <td>2144415934608048556</td>\n",
       "      <td>computers.peripherals.printer</td>\n",
       "      <td>NaN</td>\n",
       "      <td>16.24</td>\n",
       "      <td>1515915625600236619</td>\n",
       "      <td>znKNYFrDc1</td>\n",
       "    </tr>\n",
       "    <tr>\n",
       "      <th>1</th>\n",
       "      <td>2021-01-23 18:25:47 UTC</td>\n",
       "      <td>view</td>\n",
       "      <td>3605139</td>\n",
       "      <td>2144415935086199225</td>\n",
       "      <td>computers.desktop</td>\n",
       "      <td>chairman</td>\n",
       "      <td>106.78</td>\n",
       "      <td>1515915625596341973</td>\n",
       "      <td>eeSl91PHlR</td>\n",
       "    </tr>\n",
       "    <tr>\n",
       "      <th>2</th>\n",
       "      <td>2021-02-25 20:06:59 UTC</td>\n",
       "      <td>view</td>\n",
       "      <td>3648038</td>\n",
       "      <td>2144415921169498184</td>\n",
       "      <td>NaN</td>\n",
       "      <td>cameronsino</td>\n",
       "      <td>21.75</td>\n",
       "      <td>1515915625609617926</td>\n",
       "      <td>QB5zO9uiRk</td>\n",
       "    </tr>\n",
       "    <tr>\n",
       "      <th>3</th>\n",
       "      <td>2021-01-07 10:42:55 UTC</td>\n",
       "      <td>view</td>\n",
       "      <td>193898</td>\n",
       "      <td>2144415927452565738</td>\n",
       "      <td>appliances.sewing_machine</td>\n",
       "      <td>singer</td>\n",
       "      <td>219.10</td>\n",
       "      <td>1515915625573824165</td>\n",
       "      <td>yRA1Q6RFLQ</td>\n",
       "    </tr>\n",
       "    <tr>\n",
       "      <th>4</th>\n",
       "      <td>2020-11-19 09:49:09 UTC</td>\n",
       "      <td>view</td>\n",
       "      <td>666964</td>\n",
       "      <td>2144415927410622697</td>\n",
       "      <td>appliances.kitchen.microwave</td>\n",
       "      <td>horizont</td>\n",
       "      <td>63.49</td>\n",
       "      <td>1515915625541171454</td>\n",
       "      <td>iDPZxWFWCQ</td>\n",
       "    </tr>\n",
       "  </tbody>\n",
       "</table>\n",
       "</div>"
      ],
      "text/plain": [
       "                event_time event_type  product_id          category_id  \\\n",
       "0  2021-02-03 16:26:00 UTC       view      599596  2144415934608048556   \n",
       "1  2021-01-23 18:25:47 UTC       view     3605139  2144415935086199225   \n",
       "2  2021-02-25 20:06:59 UTC       view     3648038  2144415921169498184   \n",
       "3  2021-01-07 10:42:55 UTC       view      193898  2144415927452565738   \n",
       "4  2020-11-19 09:49:09 UTC       view      666964  2144415927410622697   \n",
       "\n",
       "                   category_code        brand   price              user_id  \\\n",
       "0  computers.peripherals.printer          NaN   16.24  1515915625600236619   \n",
       "1              computers.desktop     chairman  106.78  1515915625596341973   \n",
       "2                            NaN  cameronsino   21.75  1515915625609617926   \n",
       "3      appliances.sewing_machine       singer  219.10  1515915625573824165   \n",
       "4   appliances.kitchen.microwave     horizont   63.49  1515915625541171454   \n",
       "\n",
       "  user_session  \n",
       "0   znKNYFrDc1  \n",
       "1   eeSl91PHlR  \n",
       "2   QB5zO9uiRk  \n",
       "3   yRA1Q6RFLQ  \n",
       "4   iDPZxWFWCQ  "
      ]
     },
     "execution_count": 6,
     "metadata": {},
     "output_type": "execute_result"
    }
   ],
   "source": [
    "electronics1.head()"
   ]
  },
  {
   "cell_type": "code",
   "execution_count": 7,
   "id": "d0261617-f908-4c5b-a4fa-3abdcb2870b1",
   "metadata": {},
   "outputs": [
    {
     "name": "stdout",
     "output_type": "stream",
     "text": [
      "The shape of the dataframe multi is (42449, 9)\n",
      "The shape of the dataframe electronics is (4426, 9)\n",
      "The shape of the dataframe electronics1 is (8851, 9)\n"
     ]
    }
   ],
   "source": [
    "#Printing the lengths of the dataframes\n",
    "def len_dfs(df, name):\n",
    "    print(f'The shape of the dataframe {name} is {df.shape}')\n",
    "\n",
    "for df, name in zip(dfs,dfs_name):\n",
    "    len_dfs(df,name)"
   ]
  },
  {
   "cell_type": "code",
   "execution_count": 8,
   "id": "59326527-a63e-41f2-875d-b8c63e340255",
   "metadata": {},
   "outputs": [
    {
     "name": "stdout",
     "output_type": "stream",
     "text": [
      "The names of the columns in the dataframe multi are: ['event_time', 'event_type', 'product_id', 'category_id', 'category_code', 'brand', 'price', 'user_id', 'user_session']\n",
      "The names of the columns in the dataframe electronics are: ['event_time', 'event_type', 'product_id', 'category_id', 'category_code', 'brand', 'price', 'user_id', 'user_session']\n",
      "The names of the columns in the dataframe electronics1 are: ['event_time', 'event_type', 'product_id', 'category_id', 'category_code', 'brand', 'price', 'user_id', 'user_session']\n"
     ]
    }
   ],
   "source": [
    "#Printing the names of the columns\n",
    "def column_names(df,name):\n",
    "    print(f'The names of the columns in the dataframe {name} are: {df.columns.to_list()}')\n",
    "\n",
    "for df, name in zip(dfs,dfs_name):\n",
    "    column_names(df,name)"
   ]
  },
  {
   "cell_type": "code",
   "execution_count": 9,
   "id": "715945f8-94f7-4f4d-b7ba-2408c6f1ad8e",
   "metadata": {},
   "outputs": [
    {
     "name": "stdout",
     "output_type": "stream",
     "text": [
      "multi has missing values in the following columns:\n",
      "category_code    13494\n",
      "brand             6148\n",
      "Length of the dataframe multi is 42449\n",
      "----------------------------------------\n",
      "electronics has missing values in the following columns:\n",
      "category_code    1187\n",
      "brand            1030\n",
      "user_session        1\n",
      "Length of the dataframe electronics is 4426\n",
      "----------------------------------------\n",
      "electronics1 has missing values in the following columns:\n",
      "category_code    2385\n",
      "brand            2095\n",
      "Length of the dataframe electronics1 is 8851\n",
      "----------------------------------------\n"
     ]
    }
   ],
   "source": [
    "#Printing the number of null values in each column\n",
    "def columns_null_value(df, name):\n",
    "    null_counts=df.isnull().sum()\n",
    "    cols_with_null_values=null_counts[null_counts>0]\n",
    "    print(f\"{name} has missing values in the following columns:\")\n",
    "    print(cols_with_null_values.to_string())\n",
    "    print(f'Length of the dataframe {name} is {len(df)}')\n",
    "    print(\"-\" * 40) \n",
    "\n",
    "for df, name in zip(dfs,dfs_name):\n",
    "    columns_null_value(df,name)"
   ]
  },
  {
   "cell_type": "code",
   "execution_count": 10,
   "id": "33189a59-64c3-4d54-9c5a-829dd84d4540",
   "metadata": {},
   "outputs": [],
   "source": [
    "#Dropping the rows with null value from the 'user_session' columns\n",
    "for df in dfs:\n",
    "    df.dropna(subset=['user_session'],inplace=True)"
   ]
  },
  {
   "cell_type": "code",
   "execution_count": 11,
   "id": "0c0bb9e7-9d16-4809-b0b4-9fc8c70cd127",
   "metadata": {},
   "outputs": [
    {
     "name": "stdout",
     "output_type": "stream",
     "text": [
      "                event_time event_type  product_id          category_id  \\\n",
      "0  2019-10-29 14:10:28 UTC       view    17100068  2053013558349791811   \n",
      "2  2019-10-23 12:09:33 UTC       view     2800436  2053013563835941749   \n",
      "4  2019-10-26 03:02:21 UTC       view    15700013  2053013559733912211   \n",
      "5  2019-10-10 06:33:03 UTC       view    22700084  2053013556168753601   \n",
      "7  2019-10-01 20:28:35 UTC       view    26400293  2053013563651392361   \n",
      "\n",
      "                      category_code    brand   price    user_id  \\\n",
      "0                               NaN       sv  154.19  515973027   \n",
      "2  appliances.kitchen.refrigerators      NaN  330.77  514498652   \n",
      "4                               NaN      NaN  405.13  514906252   \n",
      "5                               NaN    force  239.33  549911411   \n",
      "7                               NaN  lucente  225.49  531864064   \n",
      "\n",
      "                           user_session  \n",
      "0  883895a1-d299-4da0-b999-8ee5c1ee5a57  \n",
      "2  98c1ba90-5b20-4b48-ae64-e0223edc1627  \n",
      "4  6bb9aa66-e2bc-43d4-aa23-27824a5144ae  \n",
      "5  ce08e199-e836-44b9-a2d7-072e3c4532aa  \n",
      "7  266de7d5-035a-47d5-8b07-3d174c53371a  \n",
      "                event_time event_type  product_id          category_id  \\\n",
      "0  2021-02-10 07:32:16 UTC   purchase     1569530  2144415922528452715   \n",
      "1  2020-12-11 16:39:19 UTC       view     1622011  2144415928333369601   \n",
      "2  2021-01-08 06:25:09 UTC       view      787686  2144415927125410016   \n",
      "3  2020-11-07 17:12:12 UTC       view      655642  2144415923384090754   \n",
      "6  2020-10-18 09:15:53 UTC       view     4183872  2144415922427789416   \n",
      "\n",
      "                     category_code       brand   price              user_id  \\\n",
      "0            electronics.telephone         NaN   37.94  1515915625603579901   \n",
      "1                              NaN         NaN   14.76  1515915625561257734   \n",
      "2                              NaN      perfeo   12.92  1515915625574133874   \n",
      "3                              NaN  interpower   18.41  1515915625536759596   \n",
      "6  computers.components.videocards         NaN  349.46  1515915625527421766   \n",
      "\n",
      "  user_session  \n",
      "0   0F6nvfSj4C  \n",
      "1   lnM76Sdc2W  \n",
      "2   Z1SD5V1Vt5  \n",
      "3   Ajm7C3GI6t  \n",
      "6   aCaqygUr8H  \n",
      "                 event_time event_type  product_id          category_id  \\\n",
      "0   2021-02-03 16:26:00 UTC       view      599596  2144415934608048556   \n",
      "2   2021-02-25 20:06:59 UTC       view     3648038  2144415921169498184   \n",
      "5   2020-10-01 16:10:32 UTC       view     1756392  2144415923014991993   \n",
      "9   2021-02-01 19:38:28 UTC       view      876509  2144415921253384266   \n",
      "11  2020-10-05 02:24:49 UTC       view     1694261  2144415935673401802   \n",
      "\n",
      "                     category_code        brand  price              user_id  \\\n",
      "0    computers.peripherals.printer          NaN  16.24  1515915625600236619   \n",
      "2                              NaN  cameronsino  21.75  1515915625609617926   \n",
      "5   auto.accessories.videoregister          NaN  17.46  1515915625493575351   \n",
      "9                              NaN          NaN  10.83  1515915625595501543   \n",
      "11                             NaN     mechanic   7.13  1515915625435936204   \n",
      "\n",
      "   user_session  \n",
      "0    znKNYFrDc1  \n",
      "2    QB5zO9uiRk  \n",
      "5    UrxdctTy2R  \n",
      "9    YVXJlpXFVK  \n",
      "11   c2wzftWf7E  \n"
     ]
    }
   ],
   "source": [
    "#Printing the rows with with missing values\n",
    "def rows_with_missing_values(df, name):\n",
    "    df_missing=df[df.isnull().any(axis=1)]\n",
    "    print(df_missing.head())\n",
    "\n",
    "for df, name in zip(dfs,dfs_name):\n",
    "    rows_with_missing_values(df,name)"
   ]
  },
  {
   "cell_type": "code",
   "execution_count": 12,
   "id": "f6f4d3ba-3f39-4ef7-a035-9e0fa93b20f3",
   "metadata": {},
   "outputs": [
    {
     "name": "stdout",
     "output_type": "stream",
     "text": [
      "Some rows with missing values in 'category_code' or 'brand' have the same 'category_id' as rows without missing values.\n",
      "15914 26535 15914 category_id\n",
      "False    13632\n",
      "True      2282\n",
      "Name: count, dtype: int64\n",
      "Some rows with missing values in 'category_code' or 'brand' have the same 'category_id' as rows without missing values.\n",
      "1835 2590 1835 category_id\n",
      "False    1229\n",
      "True      606\n",
      "Name: count, dtype: int64\n",
      "Some rows with missing values in 'category_code' or 'brand' have the same 'category_id' as rows without missing values.\n",
      "3656 5195 3656 category_id\n",
      "False    2434\n",
      "True     1222\n",
      "Name: count, dtype: int64\n"
     ]
    }
   ],
   "source": [
    "#checking if there are some rows with missing values in 'category_code' or 'brand' have the same 'category_id' as rows without missing values.\n",
    "def identifying_common_ids(df, name):\n",
    "\n",
    "    missing_rows = df[df['category_code'].isnull() | df['brand'].isnull()]\n",
    "    \n",
    "    non_missing_rows = df.dropna(subset=['category_code', 'brand'])\n",
    "    \n",
    "    matching_category_ids = missing_rows['category_id'].isin(non_missing_rows['category_id'])\n",
    "\n",
    "    if matching_category_ids.any():\n",
    "        print(\"Some rows with missing values in 'category_code' or 'brand' have the same 'category_id' as rows without missing values.\")\n",
    "    else:\n",
    "        print(\"No rows with missing values in 'category_code' or 'brand' have a matching 'category_id' in rows without missing values.\")\n",
    "\n",
    "    for col in ['category_code', 'brand']:\n",
    "        df[col] = df.groupby('category_id')[col].transform(lambda x: x.fillna(x.mode()[0] if not x.mode().empty else np.nan))\n",
    "    \n",
    "    print(len(missing_rows),len(non_missing_rows),len(matching_category_ids),matching_category_ids.value_counts())\n",
    "\n",
    "\n",
    "    return df\n",
    "# for df, name in zip(dfs,dfs_name):\n",
    "#     identifying_common_ids(df,name)\n",
    "dfs_filled = {name:identifying_common_ids(df, name) for df, name in zip(dfs, dfs_name)}\n"
   ]
  },
  {
   "cell_type": "code",
   "execution_count": 13,
   "id": "707f25d8-57ad-4cf7-9234-9a7f24db9dfe",
   "metadata": {},
   "outputs": [
    {
     "name": "stdout",
     "output_type": "stream",
     "text": [
      "No rows with missing values in 'category_code' or 'brand' have a matching 'product_id' in rows without missing values.\n",
      "13632 product_id\n",
      "False    13632\n",
      "Name: count, dtype: int64\n",
      "No rows with missing values in 'category_code' or 'brand' have a matching 'product_id' in rows without missing values.\n",
      "1229 product_id\n",
      "False    1229\n",
      "Name: count, dtype: int64\n",
      "No rows with missing values in 'category_code' or 'brand' have a matching 'product_id' in rows without missing values.\n",
      "2434 product_id\n",
      "False    2434\n",
      "Name: count, dtype: int64\n"
     ]
    }
   ],
   "source": [
    "#checking if there are some rows with missing values in 'category_code' or 'brand' have the same 'product_id' as rows without missing values.\n",
    "def identifying_common_ids_product(df, name):\n",
    "\n",
    "    missing_rows = df[df['category_code'].isnull() | df['brand'].isnull()]\n",
    "    \n",
    "    non_missing_rows = df.dropna(subset=['category_code', 'brand'])\n",
    "    \n",
    "    matching_category_ids = missing_rows['product_id'].isin(non_missing_rows['product_id'])\n",
    "    \n",
    "    if matching_category_ids.any():\n",
    "        print(\"Some rows with missing values in 'category_code' or 'brand' have the same 'product_id' as rows without missing values.\")\n",
    "    else:\n",
    "        print(\"No rows with missing values in 'category_code' or 'brand' have a matching 'product_id' in rows without missing values.\")\n",
    "\n",
    "    for col in ['category_code', 'brand']:\n",
    "        df[col] = df.groupby('category_id')[col].transform(lambda x: x.fillna(x.mode()[0] if not x.mode().empty else np.nan))\n",
    "    \n",
    "    print(len(matching_category_ids),matching_category_ids.value_counts())\n",
    "\n",
    "\n",
    "for df, name in zip(dfs,dfs_name):\n",
    "    identifying_common_ids_product(df,name)"
   ]
  },
  {
   "cell_type": "code",
   "execution_count": 14,
   "id": "4b0b6a94-9e06-401c-9a0b-19edeaa0f1a9",
   "metadata": {},
   "outputs": [
    {
     "name": "stdout",
     "output_type": "stream",
     "text": [
      "The number of null values in the columns of the dataframe multi are:\n",
      "event_time           0\n",
      "event_type           0\n",
      "product_id           0\n",
      "category_id          0\n",
      "category_code    13494\n",
      "brand              359\n",
      "price                0\n",
      "user_id              0\n",
      "user_session         0\n",
      "dtype: int64\n",
      "Dropping the null values\n",
      "\n",
      "The number of null values in the columns of the dataframe electronics are:\n",
      "event_time          0\n",
      "event_type          0\n",
      "product_id          0\n",
      "category_id         0\n",
      "category_code    1187\n",
      "brand             139\n",
      "price               0\n",
      "user_id             0\n",
      "user_session        0\n",
      "dtype: int64\n",
      "Dropping the null values\n",
      "\n",
      "The number of null values in the columns of the dataframe electronics1 are:\n",
      "event_time          0\n",
      "event_type          0\n",
      "product_id          0\n",
      "category_id         0\n",
      "category_code    2385\n",
      "brand             182\n",
      "price               0\n",
      "user_id             0\n",
      "user_session        0\n",
      "dtype: int64\n",
      "Dropping the null values\n",
      "\n"
     ]
    }
   ],
   "source": [
    "#dropping the null values\n",
    "for name,df in dfs_filled.items():\n",
    "    print(f'The number of null values in the columns of the dataframe {name} are:')\n",
    "    print(df.isnull().sum())\n",
    "    print('Dropping the null values\\n')\n",
    "    df.dropna(subset=['category_code','brand'],inplace=True)\n"
   ]
  },
  {
   "cell_type": "code",
   "execution_count": 15,
   "id": "0d389d52-cbbf-42bf-ae01-d71225d9c4ea",
   "metadata": {},
   "outputs": [
    {
     "name": "stdout",
     "output_type": "stream",
     "text": [
      "The length of the merged dataframe is 38430\n"
     ]
    }
   ],
   "source": [
    "#merging the three dataframes into a single one\n",
    "merged_df=pd.concat([dfs_filled[dfs_name[0]],dfs_filled[dfs_name[1]],dfs_filled[dfs_name[2]]],ignore_index=True)\n",
    "print(f'The length of the merged dataframe is {len(merged_df)}')\n"
   ]
  },
  {
   "cell_type": "code",
   "execution_count": 16,
   "id": "562d86e6-d515-4a2c-9e8e-223774f239ca",
   "metadata": {},
   "outputs": [
    {
     "data": {
      "text/plain": [
       "event_time       False\n",
       "event_type       False\n",
       "product_id       False\n",
       "category_id      False\n",
       "category_code    False\n",
       "brand            False\n",
       "price            False\n",
       "user_id          False\n",
       "user_session     False\n",
       "dtype: bool"
      ]
     },
     "execution_count": 16,
     "metadata": {},
     "output_type": "execute_result"
    }
   ],
   "source": [
    "#checking if the merged dataframe has any null values\n",
    "merged_df.isnull().any()"
   ]
  },
  {
   "cell_type": "code",
   "execution_count": 17,
   "id": "44bfaeb6-1824-4f10-9d7e-a7bfbbfba06e",
   "metadata": {},
   "outputs": [
    {
     "name": "stdout",
     "output_type": "stream",
     "text": [
      "False    38408\n",
      "True        22\n",
      "Name: count, dtype: int64\n"
     ]
    }
   ],
   "source": [
    "#checking for duplicated values in the dataframe\n",
    "print(merged_df.duplicated().value_counts())"
   ]
  },
  {
   "cell_type": "code",
   "execution_count": 18,
   "id": "56ae4329-48c0-438b-9f37-9a13bd75e1ff",
   "metadata": {},
   "outputs": [],
   "source": [
    "#dropping the duplicate values\n",
    "merged_df=merged_df.drop_duplicates(keep='first')"
   ]
  },
  {
   "cell_type": "code",
   "execution_count": 19,
   "id": "4b55a08a-7b77-43e6-9707-b3fb97a2f491",
   "metadata": {},
   "outputs": [],
   "source": [
    "merged_df.to_csv('merged_df.csv',index=False)"
   ]
  },
  {
   "cell_type": "markdown",
   "id": "7564c846-4812-41cb-af1c-aee2ecab6908",
   "metadata": {},
   "source": [
    "## Detecting outliers using IQR\n"
   ]
  },
  {
   "cell_type": "code",
   "execution_count": 20,
   "id": "599ed957-474c-4a4c-b2b2-16bfda5cdeee",
   "metadata": {},
   "outputs": [
    {
     "name": "stdout",
     "output_type": "stream",
     "text": [
      "Numerical Columns: Index(['product_id', 'category_id', 'price', 'user_id'], dtype='object')\n"
     ]
    }
   ],
   "source": [
    "#finding the  numerical columns\n",
    "num_cols=merged_df.select_dtypes(include=['number']).columns\n",
    "print('Numerical Columns:', num_cols)"
   ]
  },
  {
   "cell_type": "code",
   "execution_count": 21,
   "id": "1831c22f-afc8-4249-adc9-47a25ce029d7",
   "metadata": {},
   "outputs": [],
   "source": [
    "# #checking which of the columns have a normal distribution and which ones have a skewed distribution\n",
    "# for col in num_cols:\n",
    "#     plt.figure(figsize=(6,4))\n",
    "#     sns.histplot(merged_df[col],kde=True, bins=10)\n",
    "#     plt.title(f'Distribution of {col}')\n",
    "#     plt.show()"
   ]
  },
  {
   "cell_type": "code",
   "execution_count": 22,
   "id": "96007f2a-ad65-4420-9ea5-a03460f13205",
   "metadata": {},
   "outputs": [
    {
     "name": "stdout",
     "output_type": "stream",
     "text": [
      "product_id:p-value=1.479821547903006e-129\n",
      "product_id is not normally distributed\n",
      "category_id:p-value=1.8339933100791383e-129\n",
      "category_id is not normally distributed\n",
      "price:p-value=8.405517317160754e-118\n",
      "price is not normally distributed\n",
      "user_id:p-value=4.4043356972491165e-132\n",
      "user_id is not normally distributed\n"
     ]
    }
   ],
   "source": [
    "#checking the distribution type in the columns using statistical testing\n",
    "for col in num_cols:\n",
    "    stat, p= stats.shapiro(merged_df[col].dropna())\n",
    "    print(f'{col}:p-value={p}')\n",
    "    if p>0.05:\n",
    "        print(f'{col} is normally distributed')\n",
    "    else:\n",
    "        print(f'{col} is not normally distributed')"
   ]
  },
  {
   "cell_type": "code",
   "execution_count": 23,
   "id": "953f4fbb-d75f-45a6-860e-f62e9113d168",
   "metadata": {},
   "outputs": [
    {
     "name": "stdout",
     "output_type": "stream",
     "text": [
      "9         833.74\n",
      "11        952.41\n",
      "13       1619.09\n",
      "18       1404.08\n",
      "26       1055.34\n",
      "          ...   \n",
      "37840    1043.63\n",
      "37951     848.89\n",
      "38005     897.79\n",
      "38069     839.75\n",
      "38210    1014.87\n",
      "Name: price, Length: 3175, dtype: float64\n"
     ]
    }
   ],
   "source": [
    "#detecting outliers\n",
    "def detect_outliers(df,col):\n",
    "    q1=df[col].quantile(0.25)\n",
    "    q3=df[col].quantile(0.75)\n",
    "    iqr=q3-q1\n",
    "    lower_bound=q1-1.5*iqr\n",
    "    upper_bound=q3+1.5*iqr\n",
    "    return df[(df[col]<lower_bound) | (df[col]>upper_bound)][col]\n",
    "\n",
    "outliers=detect_outliers(merged_df,'price')\n",
    "\n",
    "print(outliers)"
   ]
  },
  {
   "cell_type": "code",
   "execution_count": 24,
   "id": "45fe8801-c304-435a-8e32-aa19ea56b141",
   "metadata": {},
   "outputs": [],
   "source": [
    "#handling the outliers using the MinMaxScaler method\n",
    "scaler=MinMaxScaler(feature_range=(0,10))\n",
    "merged_df['price_scaled']=scaler.fit_transform(merged_df[['price']])"
   ]
  },
  {
   "cell_type": "code",
   "execution_count": null,
   "id": "5333b27f-1fe8-442d-95f1-beec8e59615b",
   "metadata": {},
   "outputs": [],
   "source": []
  }
 ],
 "metadata": {
  "kernelspec": {
   "display_name": "Python 3 (ipykernel)",
   "language": "python",
   "name": "python3"
  },
  "language_info": {
   "codemirror_mode": {
    "name": "ipython",
    "version": 3
   },
   "file_extension": ".py",
   "mimetype": "text/x-python",
   "name": "python",
   "nbconvert_exporter": "python",
   "pygments_lexer": "ipython3",
   "version": "3.12.8"
  }
 },
 "nbformat": 4,
 "nbformat_minor": 5
}
