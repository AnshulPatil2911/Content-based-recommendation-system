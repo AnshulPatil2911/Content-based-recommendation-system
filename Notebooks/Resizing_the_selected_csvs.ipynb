{
 "cells": [
  {
   "cell_type": "code",
   "execution_count": 1,
   "id": "4b9efc4d-c7ca-415e-ac4d-cf93a9fd0bcf",
   "metadata": {},
   "outputs": [],
   "source": [
    "import pandas as pd\n",
    "import numpy as np\n",
    "import os"
   ]
  },
  {
   "cell_type": "code",
   "execution_count": 2,
   "id": "e00e6821-b075-4001-9c62-9445f7be5726",
   "metadata": {},
   "outputs": [],
   "source": [
    "#Reading the Multi_category csv file\n",
    "df=pd.read_csv('D:/Subjects/Intro To Data Science/Project/Multi_Category/2019-Oct.csv')\n",
    "df_download=df.sample(frac=0.001).reset_index(drop=True)    #Sampling 1% of the data"
   ]
  },
  {
   "cell_type": "code",
   "execution_count": 3,
   "id": "aadf11fe-edfb-4b63-96df-7990e3768c8d",
   "metadata": {},
   "outputs": [],
   "source": [
    "df_download.to_csv('Multi_Category_Store_1.csv',index=False) #Saving the new sampled data as a csv file"
   ]
  },
  {
   "cell_type": "code",
   "execution_count": 4,
   "id": "dc464e54-444b-4707-8f19-ebc468a1f784",
   "metadata": {},
   "outputs": [],
   "source": [
    "#Reading the Electronics csv file\n",
    "electronics=pd.read_csv('D:/Subjects/Intro To Data Science/Project/Electronics/events.csv')"
   ]
  },
  {
   "cell_type": "code",
   "execution_count": 5,
   "id": "f4069c9b-c7b7-46ea-86a0-f7576a2876ff",
   "metadata": {},
   "outputs": [],
   "source": [
    "electronics1=electronics.sample(frac=0.005).reset_index(drop=True)    #Sampling 10% of the data\n",
    "electronics1.to_csv('Electronics1.csv',index=False)                 #Saving the new sampled data as a csv file"
   ]
  },
  {
   "cell_type": "code",
   "execution_count": 6,
   "id": "db9e118c-69c9-4e68-80cb-4b93be1a151e",
   "metadata": {},
   "outputs": [],
   "source": [
    "#Reading the Electronics 1 csv file\n",
    "electronics1=pd.read_csv('D:/Subjects/Intro To Data Science/Project/Electronics1/events.csv')"
   ]
  },
  {
   "cell_type": "code",
   "execution_count": 7,
   "id": "0cb12b3e-bb27-4ace-96e7-7690ec55ba97",
   "metadata": {},
   "outputs": [],
   "source": [
    "electronics1=electronics1.sample(frac=0.01).reset_index(drop=True)    #Sampling 10% of the data\n",
    "electronics1.to_csv('Electronics2.csv',index=False)     #Saving the new sampled data as a csv file"
   ]
  },
  {
   "cell_type": "code",
   "execution_count": null,
   "id": "afa17cf1-3f9b-47c8-b5a6-d3f11cf4f9a0",
   "metadata": {},
   "outputs": [],
   "source": []
  },
  {
   "cell_type": "code",
   "execution_count": null,
   "id": "f4c79e8d-e98d-4b12-95a8-9748b46868b9",
   "metadata": {},
   "outputs": [],
   "source": []
  },
  {
   "cell_type": "code",
   "execution_count": null,
   "id": "c5588f62-1048-45f6-81d9-ff0d8403fc79",
   "metadata": {},
   "outputs": [],
   "source": []
  }
 ],
 "metadata": {
  "kernelspec": {
   "display_name": "Python 3 (ipykernel)",
   "language": "python",
   "name": "python3"
  },
  "language_info": {
   "codemirror_mode": {
    "name": "ipython",
    "version": 3
   },
   "file_extension": ".py",
   "mimetype": "text/x-python",
   "name": "python",
   "nbconvert_exporter": "python",
   "pygments_lexer": "ipython3",
   "version": "3.12.8"
  }
 },
 "nbformat": 4,
 "nbformat_minor": 5
}
